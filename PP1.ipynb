{
 "cells": [
  {
   "cell_type": "markdown",
   "metadata": {},
   "source": [
    "# Programming Project 1\n",
    "**Author:** Molly Rovinski\n",
    "\n",
    "**Version:** 1.0\n",
    "\n",
    "**Semester:** Fall 2020"
   ]
  },
  {
   "cell_type": "markdown",
   "metadata": {},
   "source": [
    "**Problem:** Write a program that projects population growth for a certain time period. Inputs should include the initial population, the growth rate, and the number of years to project. "
   ]
  },
  {
   "cell_type": "code",
   "execution_count": 173,
   "metadata": {},
   "outputs": [
    {
     "name": "stdout",
     "output_type": "stream",
     "text": [
      "| YEAR |   POPULATION   |   INCREASE FROM PREVIOUS YEAR  |\n",
      "|  01  | 0100347219.79  |         011347219.79           |\n",
      "|  02  | 0113141174.38  |         012793954.59           |\n",
      "|  03  | 0127566317.90  |         014425143.52           |\n",
      "|  04  | 0143830621.80  |         016264303.90           |\n",
      "|  05  | 0162168573.23  |         018337951.44           |\n",
      "|  06  | 0182844555.75  |         020675982.51           |\n",
      "|  07  | 0206156660.93  |         023312105.19           |\n",
      "|  08  | 0232440986.13  |         026284325.20           |\n",
      "|  09  | 0262076480.04  |         029635493.91           |\n",
      "|  10  | 0295490406.12  |         033413926.08           |\n",
      "|  11  | 0333164502.58  |         037674096.45           |\n",
      "|  12  | 0375641927.71  |         042477425.14           |\n",
      "|  13  | 0423535090.82  |         047893163.10           |\n",
      "|  14  | 0477534481.43  |         053999390.61           |\n",
      "|  15  | 0538418624.33  |         060884142.90           |\n",
      "|  16  | 0607065303.77  |         068646679.43           |\n",
      "|  17  | 0684464218.70  |         077398914.93           |\n",
      "|  18  | 0771731251.60  |         087267032.90           |\n",
      "|  19  | 0870124556.45  |         098393304.84           |\n",
      "|  20  | 0981062697.88  |         110938141.43           |\n",
      "|  21  | 1106145103.06  |         125082405.18           |\n",
      "|  22  | 1247175121.09  |         141030018.03           |\n",
      "|  23  | 1406186022.40  |         159010901.31           |\n",
      "|  24  | 1585470312.99  |         179284290.59           |\n",
      "|  25  | 1787612786.16  |         202142473.18           |\n",
      "|  26  | 2015527788.24  |         227915002.08           | *population has doubled\n",
      "|  27  | 2272501235.51  |         256973447.27           |\n",
      "|  28  | 2562237988.25  |         289736752.74           |\n",
      "|  29  | 2888915264.75  |         326677276.50           |\n",
      "|  30  | 3257242865.49  |         368327600.74           |\n",
      "|  31  | 3672531075.67  |         415288210.18           |\n",
      "|  32  | 4140767225.14  |         468236149.47           |\n",
      "|  33  | 4668702009.47  |         527934784.33           |\n",
      "|  34  | 5263946816.64  |         595244807.17           |\n",
      "|  35  | 5935083462.64  |         671136646.00           |\n",
      "|  36  | 6691787917.99  |         756704455.35           |\n"
     ]
    },
    {
     "data": {
      "text/plain": [
       "6691787917.990069"
      ]
     },
     "execution_count": 173,
     "metadata": {},
     "output_type": "execute_result"
    }
   ],
   "source": [
    "import math\n",
    "from math import e\n",
    "print(\"| YEAR |   POPULATION   |   INCREASE FROM PREVIOUS YEAR  |\")\n",
    "def calc_PG (t=35, r=.12, P=89000000):\n",
    "    n = 0\n",
    "    PG = P\n",
    "    while n <= t: \n",
    "        Past = PG\n",
    "        PG = PG * e**(r)\n",
    "        Difference = PG - Past\n",
    "        n = n + 1\n",
    "        if (n==26):\n",
    "            print(\"| \", f'{n:0=2d}', \" |\", f'{PG:.2F}', \" |        \", f'{Difference:0>12.2F}',\"          |\", \"*population has doubled\")\n",
    "        else:\n",
    "            print(\"| \", f'{n:0=2d}', \" |\", f'{PG:0>13.2F}', \" |        \", f'{Difference:0>12.2F}', \"          |\")\n",
    "    return PG\n",
    "calc_PG()"
   ]
  }
 ],
 "metadata": {
  "kernelspec": {
   "display_name": "Python 3",
   "language": "python",
   "name": "python3"
  },
  "language_info": {
   "codemirror_mode": {
    "name": "ipython",
    "version": 3
   },
   "file_extension": ".py",
   "mimetype": "text/x-python",
   "name": "python",
   "nbconvert_exporter": "python",
   "pygments_lexer": "ipython3",
   "version": "3.8.3"
  }
 },
 "nbformat": 4,
 "nbformat_minor": 4
}
